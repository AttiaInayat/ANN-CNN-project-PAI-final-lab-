{
  "cells": [
    {
      "cell_type": "markdown",
      "metadata": {
        "id": "BJkRnAz43m9h"
      },
      "source": [
        "# **WorkFlow:**\n",
        "\n",
        "**Problem Statement: Image Classification using CNN**\n",
        "\n",
        "1- Dataset : Cifar10\n",
        "\n",
        "   No. of samples: 60000\n",
        "\n",
        "   No. of target classes: 10,\n",
        "\n",
        "   target_names=[ \"Airplane\", \"Automobile\", \"Bird\", \"Cat\", \"Deer\", \"Dog\" \"Frog\", \"Horse\", \"Ship\", \"Truck\"]\n",
        "\n",
        "2- Load the data and split it into train,val,test and then normalize its feature pixel values.\n",
        "\n",
        "3- Using the Hyperband (hyperparameter optimization algorithm) to search the\n",
        "best hyperparameters over a defined range.\n",
        "\n",
        "4- Then training the model using the best hyperparameters.\n",
        "Training layers:\n",
        "\n",
        "\n",
        "*   Conv2D : Extract the feature maps from the image\n",
        "*   Maxpooling: Reduce the dimensionality of image data\n",
        "*   Flatten:  To convert the list in 1D array\n",
        "*   Dense: Fully connected layer that learns weights of input\n",
        "\n",
        "5- Evaluate the model on the test data.\n",
        "\n",
        "6- Find the different evaluation metrics and plot the loss and accuracy.\n",
        "\n",
        "\n",
        "\n",
        "\n"
      ]
    },
    {
      "cell_type": "code",
      "execution_count": null,
      "metadata": {
        "id": "YQcRhdqJz3Md"
      },
      "outputs": [],
      "source": [
        "#importing dependencies\n",
        "from tensorflow.keras.datasets import cifar10\n",
        "from tensorflow.keras.models import Sequential\n",
        "from tensorflow.keras.layers import Dense, Flatten, Conv2D, MaxPooling2D\n",
        "from tensorflow.keras.losses import sparse_categorical_crossentropy\n",
        "from tensorflow.keras.optimizers import Adam\n",
        "import matplotlib.pyplot as plt"
      ]
    },
    {
      "cell_type": "code",
      "execution_count": null,
      "metadata": {
        "colab": {
          "base_uri": "https://localhost:8080/"
        },
        "id": "X6NJ_qMA4zj5",
        "outputId": "d8cc7b9d-7dad-4303-a19f-22f3d6f3ce9e"
      },
      "outputs": [
        {
          "name": "stdout",
          "output_type": "stream",
          "text": [
            "Downloading data from https://www.cs.toronto.edu/~kriz/cifar-10-python.tar.gz\n",
            "\u001b[1m170498071/170498071\u001b[0m \u001b[32m━━━━━━━━━━━━━━━━━━━━\u001b[0m\u001b[37m\u001b[0m \u001b[1m4s\u001b[0m 0us/step\n"
          ]
        }
      ],
      "source": [
        "(x_train, y_train), (x_test, y_test) = cifar10.load_data()"
      ]
    },
    {
      "cell_type": "code",
      "execution_count": null,
      "metadata": {
        "colab": {
          "base_uri": "https://localhost:8080/"
        },
        "id": "E3w1O5m_5AjJ",
        "outputId": "814be616-792c-47e1-c483-0e994d2b6bb2"
      },
      "outputs": [
        {
          "data": {
            "text/plain": [
              "(32, 32, 3)"
            ]
          },
          "execution_count": 5,
          "metadata": {},
          "output_type": "execute_result"
        }
      ],
      "source": [
        "x_train[0].shape"
      ]
    },
    {
      "cell_type": "code",
      "execution_count": null,
      "metadata": {
        "colab": {
          "base_uri": "https://localhost:8080/"
        },
        "id": "M0LjVtJWLO_a",
        "outputId": "8751e39b-5baa-4134-f9e0-91c6116da712"
      },
      "outputs": [
        {
          "name": "stdout",
          "output_type": "stream",
          "text": [
            "(50000, 32, 32, 3)\n",
            "(10000, 32, 32, 3)\n"
          ]
        }
      ],
      "source": [
        "print(x_train.shape)\n",
        "print(x_test.shape)"
      ]
    },
    {
      "cell_type": "code",
      "execution_count": null,
      "metadata": {
        "id": "abduBapV7xtK"
      },
      "outputs": [],
      "source": [
        "from sklearn.model_selection import train_test_split\n",
        "x_test,x_val,y_test,y_val=train_test_split(x_test,y_test,test_size=0.5,random_state=42)"
      ]
    },
    {
      "cell_type": "code",
      "execution_count": null,
      "metadata": {
        "colab": {
          "base_uri": "https://localhost:8080/"
        },
        "id": "s9ZWIJwb8Hk8",
        "outputId": "269da540-6960-4261-e23c-24a396aab145"
      },
      "outputs": [
        {
          "data": {
            "text/plain": [
              "(5000, 32, 32, 3)"
            ]
          },
          "execution_count": 8,
          "metadata": {},
          "output_type": "execute_result"
        }
      ],
      "source": [
        "x_val.shape"
      ]
    },
    {
      "cell_type": "code",
      "execution_count": null,
      "metadata": {
        "id": "KqHJlNyOLf3D"
      },
      "outputs": [],
      "source": [
        "#Normalizing the pixel values\n",
        "x_train=x_train/255.0\n",
        "x_val=x_val/255.0\n",
        "x_test=x_test/255.0\n"
      ]
    },
    {
      "cell_type": "code",
      "execution_count": null,
      "metadata": {
        "colab": {
          "base_uri": "https://localhost:8080/"
        },
        "id": "rttAGCkVHww6",
        "outputId": "27f2d6a5-591d-4a3b-a96e-20afa371f3dd"
      },
      "outputs": [
        {
          "name": "stdout",
          "output_type": "stream",
          "text": [
            "Collecting keras-tuner\n",
            "  Downloading keras_tuner-1.4.7-py3-none-any.whl.metadata (5.4 kB)\n",
            "Requirement already satisfied: keras in /usr/local/lib/python3.10/dist-packages (from keras-tuner) (3.5.0)\n",
            "Requirement already satisfied: packaging in /usr/local/lib/python3.10/dist-packages (from keras-tuner) (24.2)\n",
            "Requirement already satisfied: requests in /usr/local/lib/python3.10/dist-packages (from keras-tuner) (2.32.3)\n",
            "Collecting kt-legacy (from keras-tuner)\n",
            "  Downloading kt_legacy-1.0.5-py3-none-any.whl.metadata (221 bytes)\n",
            "Requirement already satisfied: absl-py in /usr/local/lib/python3.10/dist-packages (from keras->keras-tuner) (1.4.0)\n",
            "Requirement already satisfied: numpy in /usr/local/lib/python3.10/dist-packages (from keras->keras-tuner) (1.26.4)\n",
            "Requirement already satisfied: rich in /usr/local/lib/python3.10/dist-packages (from keras->keras-tuner) (13.9.4)\n",
            "Requirement already satisfied: namex in /usr/local/lib/python3.10/dist-packages (from keras->keras-tuner) (0.0.8)\n",
            "Requirement already satisfied: h5py in /usr/local/lib/python3.10/dist-packages (from keras->keras-tuner) (3.12.1)\n",
            "Requirement already satisfied: optree in /usr/local/lib/python3.10/dist-packages (from keras->keras-tuner) (0.13.1)\n",
            "Requirement already satisfied: ml-dtypes in /usr/local/lib/python3.10/dist-packages (from keras->keras-tuner) (0.4.1)\n",
            "Requirement already satisfied: charset-normalizer<4,>=2 in /usr/local/lib/python3.10/dist-packages (from requests->keras-tuner) (3.4.0)\n",
            "Requirement already satisfied: idna<4,>=2.5 in /usr/local/lib/python3.10/dist-packages (from requests->keras-tuner) (3.10)\n",
            "Requirement already satisfied: urllib3<3,>=1.21.1 in /usr/local/lib/python3.10/dist-packages (from requests->keras-tuner) (2.2.3)\n",
            "Requirement already satisfied: certifi>=2017.4.17 in /usr/local/lib/python3.10/dist-packages (from requests->keras-tuner) (2024.12.14)\n",
            "Requirement already satisfied: typing-extensions>=4.5.0 in /usr/local/lib/python3.10/dist-packages (from optree->keras->keras-tuner) (4.12.2)\n",
            "Requirement already satisfied: markdown-it-py>=2.2.0 in /usr/local/lib/python3.10/dist-packages (from rich->keras->keras-tuner) (3.0.0)\n",
            "Requirement already satisfied: pygments<3.0.0,>=2.13.0 in /usr/local/lib/python3.10/dist-packages (from rich->keras->keras-tuner) (2.18.0)\n",
            "Requirement already satisfied: mdurl~=0.1 in /usr/local/lib/python3.10/dist-packages (from markdown-it-py>=2.2.0->rich->keras->keras-tuner) (0.1.2)\n",
            "Downloading keras_tuner-1.4.7-py3-none-any.whl (129 kB)\n",
            "\u001b[2K   \u001b[90m━━━━━━━━━━━━━━━━━━━━━━━━━━━━━━━━━━━━━━━━\u001b[0m \u001b[32m129.1/129.1 kB\u001b[0m \u001b[31m2.5 MB/s\u001b[0m eta \u001b[36m0:00:00\u001b[0m\n",
            "\u001b[?25hDownloading kt_legacy-1.0.5-py3-none-any.whl (9.6 kB)\n",
            "Installing collected packages: kt-legacy, keras-tuner\n",
            "Successfully installed keras-tuner-1.4.7 kt-legacy-1.0.5\n"
          ]
        }
      ],
      "source": [
        "!pip install keras-tuner"
      ]
    },
    {
      "cell_type": "markdown",
      "metadata": {
        "id": "XCBfAXUV8j6a"
      },
      "source": [
        "# **Hyperparameter tuning:**"
      ]
    },
    {
      "cell_type": "code",
      "execution_count": null,
      "metadata": {
        "colab": {
          "background_save": true,
          "base_uri": "https://localhost:8080/"
        },
        "id": "CF_kXTCCXRwr",
        "outputId": "71b9ba33-cd7f-440f-a27c-33fbb17c8a71"
      },
      "outputs": [
        {
          "name": "stdout",
          "output_type": "stream",
          "text": [
            "Trial 12 Complete [01h 42m 13s]\n",
            "val_accuracy: 0.09960000216960907\n",
            "\n",
            "Best val_accuracy So Far: 0.6881999969482422\n",
            "Total elapsed time: 06h 15m 45s\n"
          ]
        }
      ],
      "source": [
        "from keras_tuner.tuners import Hyperband\n",
        "def model_for_hyperparameter_searching(hp):\n",
        "    model=Sequential()\n",
        "    model.add(Conv2D(hp.Int('filters',min_value=32,max_value=512,step=32),(3,3),activation='relu',input_shape=(32,32,3)))\n",
        "    model.add(MaxPooling2D(2,2))\n",
        "    model.add(Conv2D(hp.Int('filters',min_value=32,max_value=128,step=32),(3,3),activation='relu'))\n",
        "    model.add(MaxPooling2D(2,2))\n",
        "    model.add(Flatten())\n",
        "    model.add(Dense(hp.Int('units',min_value=64,max_value=256,step=32),activation='relu'))\n",
        "    model.add(Dense(10,activation='softmax'))\n",
        "\n",
        "    hp_learning_rate = hp.Choice('learning_rate', values=[0.001, 0.01, 0.1])\n",
        "    model.compile(optimizer=Adam(hp_learning_rate),loss='sparse_categorical_crossentropy',metrics=['accuracy'])\n",
        "    return model\n",
        "\n",
        "\n",
        "\n",
        "hyperparameter_search= Hyperband(model_for_hyperparameter_searching,objective='val_accuracy',max_epochs=3,hyperband_iterations=2)\n",
        "hyperparameter_search.search(x_train,y_train,epochs=2,validation_data=(x_val,y_val))\n",
        "\n"
      ]
    },
    {
      "cell_type": "markdown",
      "metadata": {
        "id": "6QYSRj8q8vGE"
      },
      "source": [
        "# **Training and Evaluating the model:**"
      ]
    },
    {
      "cell_type": "code",
      "execution_count": null,
      "metadata": {
        "id": "geJY_Byvn0ZR",
        "colab": {
          "base_uri": "https://localhost:8080/"
        },
        "outputId": "39c38e4e-1060-4a19-db55-bfa9ef6c29ec"
      },
      "outputs": [
        {
          "output_type": "stream",
          "name": "stdout",
          "text": [
            "Epoch 1/10\n",
            "\u001b[1m1563/1563\u001b[0m \u001b[32m━━━━━━━━━━━━━━━━━━━━\u001b[0m\u001b[37m\u001b[0m \u001b[1m185s\u001b[0m 118ms/step - accuracy: 0.4015 - loss: 1.6429 - val_accuracy: 0.6102 - val_loss: 1.1182\n",
            "Epoch 2/10\n",
            "\u001b[1m1563/1563\u001b[0m \u001b[32m━━━━━━━━━━━━━━━━━━━━\u001b[0m\u001b[37m\u001b[0m \u001b[1m201s\u001b[0m 118ms/step - accuracy: 0.6333 - loss: 1.0526 - val_accuracy: 0.6494 - val_loss: 0.9990\n",
            "Epoch 3/10\n",
            "\u001b[1m1563/1563\u001b[0m \u001b[32m━━━━━━━━━━━━━━━━━━━━\u001b[0m\u001b[37m\u001b[0m \u001b[1m209s\u001b[0m 122ms/step - accuracy: 0.6964 - loss: 0.8718 - val_accuracy: 0.6892 - val_loss: 0.8899\n",
            "Epoch 4/10\n",
            "\u001b[1m1563/1563\u001b[0m \u001b[32m━━━━━━━━━━━━━━━━━━━━\u001b[0m\u001b[37m\u001b[0m \u001b[1m192s\u001b[0m 123ms/step - accuracy: 0.7369 - loss: 0.7506 - val_accuracy: 0.6842 - val_loss: 0.9206\n",
            "Epoch 5/10\n",
            "\u001b[1m1563/1563\u001b[0m \u001b[32m━━━━━━━━━━━━━━━━━━━━\u001b[0m\u001b[37m\u001b[0m \u001b[1m196s\u001b[0m 119ms/step - accuracy: 0.7737 - loss: 0.6425 - val_accuracy: 0.7120 - val_loss: 0.8627\n",
            "Epoch 6/10\n",
            "\u001b[1m1563/1563\u001b[0m \u001b[32m━━━━━━━━━━━━━━━━━━━━\u001b[0m\u001b[37m\u001b[0m \u001b[1m208s\u001b[0m 123ms/step - accuracy: 0.8083 - loss: 0.5514 - val_accuracy: 0.6988 - val_loss: 0.9359\n",
            "Epoch 7/10\n",
            "\u001b[1m1563/1563\u001b[0m \u001b[32m━━━━━━━━━━━━━━━━━━━━\u001b[0m\u001b[37m\u001b[0m \u001b[1m198s\u001b[0m 120ms/step - accuracy: 0.8346 - loss: 0.4726 - val_accuracy: 0.6966 - val_loss: 0.9439\n",
            "Epoch 8/10\n",
            "\u001b[1m1563/1563\u001b[0m \u001b[32m━━━━━━━━━━━━━━━━━━━━\u001b[0m\u001b[37m\u001b[0m \u001b[1m188s\u001b[0m 120ms/step - accuracy: 0.8579 - loss: 0.4060 - val_accuracy: 0.6930 - val_loss: 0.9948\n",
            "Epoch 9/10\n",
            "\u001b[1m1563/1563\u001b[0m \u001b[32m━━━━━━━━━━━━━━━━━━━━\u001b[0m\u001b[37m\u001b[0m \u001b[1m201s\u001b[0m 120ms/step - accuracy: 0.8787 - loss: 0.3442 - val_accuracy: 0.6858 - val_loss: 1.0985\n",
            "Epoch 10/10\n",
            "\u001b[1m1563/1563\u001b[0m \u001b[32m━━━━━━━━━━━━━━━━━━━━\u001b[0m\u001b[37m\u001b[0m \u001b[1m188s\u001b[0m 120ms/step - accuracy: 0.9020 - loss: 0.2813 - val_accuracy: 0.6886 - val_loss: 1.1985\n",
            "\u001b[1m157/157\u001b[0m \u001b[32m━━━━━━━━━━━━━━━━━━━━\u001b[0m\u001b[37m\u001b[0m \u001b[1m5s\u001b[0m 30ms/step - accuracy: 0.7046 - loss: 1.1881\n",
            "Test Loss: 1.1821873188018799\n",
            "Test Accuracy: 0.6970000267028809\n"
          ]
        }
      ],
      "source": [
        "best_hps=hyperparameter_search.get_best_hyperparameters(num_trials=1)[0]\n",
        "best_hmodel=hyperparameter_search.hypermodel.build(best_hps)\n",
        "history=best_hmodel.fit(x_train,y_train,epochs=10,validation_data=(x_val,y_val))\n",
        "loss,accuracy=best_hmodel.evaluate(x_test,y_test)\n",
        "\n",
        "\n",
        "print('Test Loss:',loss)\n",
        "print('Test Accuracy:',accuracy)\n"
      ]
    },
    {
      "cell_type": "code",
      "execution_count": null,
      "metadata": {
        "id": "jeQOjvgUU_T0"
      },
      "outputs": [],
      "source": [
        "hyperparameter_search.save('model_checkpoint.h5')  # Save the model to a file\n"
      ]
    },
    {
      "cell_type": "markdown",
      "metadata": {
        "id": "W7QNO5Cd84Vo"
      },
      "source": [
        "# **Evaluation Metrics:**"
      ]
    },
    {
      "cell_type": "code",
      "execution_count": null,
      "metadata": {
        "id": "J7uysSfO75AN",
        "colab": {
          "base_uri": "https://localhost:8080/"
        },
        "outputId": "2f565969-24a4-48b9-ad66-fe7a121770be"
      },
      "outputs": [
        {
          "output_type": "stream",
          "name": "stdout",
          "text": [
            "\u001b[1m157/157\u001b[0m \u001b[32m━━━━━━━━━━━━━━━━━━━━\u001b[0m\u001b[37m\u001b[0m \u001b[1m6s\u001b[0m 39ms/step\n",
            "Confusion matrix:  \n",
            "\n",
            "[[422  11  26   0   1   5   4   4  33  15]\n",
            " [ 18 416   4   2   0   2   1   0  23  48]\n",
            " [ 37   6 306  15  32  15  25  16  14   9]\n",
            " [ 31   8  53 200  34  79  28  29  23  15]\n",
            " [ 24   0  59  22 325   6  16  29   8   5]\n",
            " [ 24   8  69  79  20 269   6  26  17   4]\n",
            " [ 13   8  39  27  20  11 357   4   7   3]\n",
            " [ 18   5  35   8  26  12   2 356   3   7]\n",
            " [ 37  15   7   0   2   1   0   3 430  16]\n",
            " [ 20  42   3   2   3   0   0   6  22 404]]\n"
          ]
        }
      ],
      "source": [
        "from sklearn.metrics import confusion_matrix\n",
        "import numpy as np\n",
        "y_pred=best_hmodel.predict(x_test)\n",
        "y_pred=np.argmax(y_pred,axis=1)\n",
        "y_true=y_test.flatten()\n",
        "cm=confusion_matrix(y_true,y_pred)\n",
        "print('Confusion matrix:  \\n')\n",
        "print(cm)"
      ]
    },
    {
      "cell_type": "code",
      "execution_count": null,
      "metadata": {
        "id": "RGTI6Vac0VpV",
        "colab": {
          "base_uri": "https://localhost:8080/"
        },
        "outputId": "69b94272-c581-409d-957b-98cae476154a"
      },
      "outputs": [
        {
          "output_type": "stream",
          "name": "stdout",
          "text": [
            "Classification Report:  \n",
            "\n",
            "              precision    recall  f1-score   support\n",
            "\n",
            "    Airplane       0.66      0.81      0.72       521\n",
            "  Automobile       0.80      0.81      0.81       514\n",
            "        Bird       0.51      0.64      0.57       475\n",
            "         Cat       0.56      0.40      0.47       500\n",
            "        Deer       0.70      0.66      0.68       494\n",
            "         Dog       0.67      0.52      0.58       522\n",
            "        Frog       0.81      0.73      0.77       489\n",
            "       Horse       0.75      0.75      0.75       472\n",
            "        Ship       0.74      0.84      0.79       511\n",
            "       Truck       0.77      0.80      0.79       502\n",
            "\n",
            "    accuracy                           0.70      5000\n",
            "   macro avg       0.70      0.70      0.69      5000\n",
            "weighted avg       0.70      0.70      0.69      5000\n",
            "\n"
          ]
        }
      ],
      "source": [
        "from sklearn.metrics import classification_report\n",
        "cr=classification_report(y_true,y_pred, target_names=[ \"Airplane\", \"Automobile\", \"Bird\", \"Cat\", \"Deer\", \"Dog\", \"Frog\", \"Horse\", \"Ship\", \"Truck\"])\n",
        "print('Classification Report:  \\n')\n",
        "print(cr)"
      ]
    },
    {
      "cell_type": "markdown",
      "metadata": {
        "id": "9bEai8fh8-T7"
      },
      "source": [
        "# **Visualization:**"
      ]
    },
    {
      "cell_type": "code",
      "execution_count": null,
      "metadata": {
        "id": "5W8ybCXJ2GNz",
        "colab": {
          "base_uri": "https://localhost:8080/",
          "height": 607
        },
        "outputId": "d7f66aa0-7b70-4621-f3df-16b931cdc6c6"
      },
      "outputs": [
        {
          "output_type": "display_data",
          "data": {
            "text/plain": [
              "<Figure size 1200x600 with 2 Axes>"
            ],
            "image/png": "[encoded data removed]"
          },
          "metadata": {}
        }
      ],
      "source": [
        "import matplotlib.pyplot as plt\n",
        "\n",
        "plt.figure(figsize=(12, 6))\n",
        "\n",
        "# Accuracy plot\n",
        "plt.subplot(1, 2, 1)\n",
        "plt.plot(history.history['accuracy'], label='Training Accuracy')\n",
        "plt.plot(history.history['val_accuracy'], label='Validation Accuracy')\n",
        "plt.xlabel('Epochs')\n",
        "plt.ylabel('Accuracy')\n",
        "plt.legend()\n",
        "plt.title('Training vs. Validation Accuracy')\n",
        "\n",
        "# Loss plot\n",
        "plt.subplot(1, 2, 2)\n",
        "plt.plot(history.history['loss'], label='Training Loss')\n",
        "plt.plot(history.history['val_loss'], label='Validation Loss')\n",
        "plt.xlabel('Epochs')\n",
        "plt.ylabel('Loss')\n",
        "plt.legend()\n",
        "plt.title('Training vs. Validation Loss')\n",
        "\n",
        "plt.tight_layout()\n",
        "plt.show()\n"
      ]
    },
    {
      "cell_type": "code",
      "execution_count": null,
      "metadata": {
        "id": "gs9HiKl1Hp8T"
      },
      "outputs": [],
      "source": []
    }
  ],
  "metadata": {
    "colab": {
      "provenance": []
    },
    "kernelspec": {
      "display_name": "Python 3",
      "name": "python3"
    },
    "language_info": {
      "name": "python"
    }
  },
  "nbformat": 4,
  "nbformat_minor": 0
}