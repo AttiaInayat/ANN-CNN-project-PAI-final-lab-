{
  "cells": [
    {
      "cell_type": "markdown",
      "source": [
        "# **WorkFlow:**\n",
        "\n",
        "# Problem Statement: Stock Market Price Prediction using ANN\n",
        "\n",
        "1- Dataset: Stock Market\n",
        "\n",
        "   No. of Samples: 5804\n",
        "\n",
        "   Target Column: 'Adjusted Close' having continuous prices values\n",
        "\n",
        "2- Import the dataset,extract the features from its 'date' column, split the data into train,test,val. then apply scaling on its features.\n",
        "\n",
        "3- Create the tensors and then the tensor dataset.\n",
        "\n",
        "4- Forward Pass: Then create a neural network model having hidden layers and units of choice. and every unit will update the weights and apply relu activation on it.\n",
        "\n",
        "5- Loss calculation: And then the loss will be calculated on the predictions that our model has made after the training in forward pass.\n",
        "\n",
        "6- And then we are making gradients zero after each iteration.\n",
        "\n",
        "7- Back Propagation: During back propagation the gradients will be calculated and weights will be updated in the .step() method.\n",
        "\n",
        "8- After being trained in several epochs, we will test the model and will plot the actual vs predictions\n"
      ],
      "metadata": {
        "id": "lGvJKfAMa9x8"
      }
    },
    {
      "cell_type": "code",
      "execution_count": 107,
      "metadata": {
        "id": "jfeLIaRhocGS"
      },
      "outputs": [],
      "source": [
        "#importing the dependencies\n",
        "import torch\n",
        "import torch.nn as nn\n",
        "from torch.utils.data import TensorDataset, DataLoader\n",
        "import pandas as pd\n",
        "import matplotlib.pyplot as plt\n",
        "import numpy as np"
      ]
    },
    {
      "cell_type": "code",
      "execution_count": 108,
      "metadata": {
        "colab": {
          "base_uri": "https://localhost:8080/",
          "height": 206
        },
        "id": "CocR3ess_l7a",
        "outputId": "574278bb-9354-4c99-fdeb-15bd0bfd79c5"
      },
      "outputs": [
        {
          "output_type": "execute_result",
          "data": {
            "text/plain": [
              "         Date        Low       Open    Volume       High      Close  \\\n",
              "0  18-11-1999  28.612303  32.546494  62546380  35.765381  31.473534   \n",
              "1  19-11-1999  28.478184  30.713518  15234146  30.758226  28.880545   \n",
              "2  22-11-1999  28.657009  29.551144   6577870  31.473534  31.473534   \n",
              "3  23-11-1999  28.612303  30.400572   5975611  31.205294  28.612303   \n",
              "4  24-11-1999  28.612303  28.701717   4843231  29.998213  29.372318   \n",
              "\n",
              "   Adjusted Close  \n",
              "0       27.066582  \n",
              "1       24.836662  \n",
              "2       27.066582  \n",
              "3       24.605980  \n",
              "4       25.259573  "
            ],
            "text/html": [
              "\n",
              "  <div id=\"df-8b0ed69b-d178-4b0a-844a-b92158deea31\" class=\"colab-df-container\">\n",
              "    <div>\n",
              "<style scoped>\n",
              "    .dataframe tbody tr th:only-of-type {\n",
              "        vertical-align: middle;\n",
              "    }\n",
              "\n",
              "    .dataframe tbody tr th {\n",
              "        vertical-align: top;\n",
              "    }\n",
              "\n",
              "    .dataframe thead th {\n",
              "        text-align: right;\n",
              "    }\n",
              "</style>\n",
              "<table border=\"1\" class=\"dataframe\">\n",
              "  <thead>\n",
              "    <tr style=\"text-align: right;\">\n",
              "      <th></th>\n",
              "      <th>Date</th>\n",
              "      <th>Low</th>\n",
              "      <th>Open</th>\n",
              "      <th>Volume</th>\n",
              "      <th>High</th>\n",
              "      <th>Close</th>\n",
              "      <th>Adjusted Close</th>\n",
              "    </tr>\n",
              "  </thead>\n",
              "  <tbody>\n",
              "    <tr>\n",
              "      <th>0</th>\n",
              "      <td>18-11-1999</td>\n",
              "      <td>28.612303</td>\n",
              "      <td>32.546494</td>\n",
              "      <td>62546380</td>\n",
              "      <td>35.765381</td>\n",
              "      <td>31.473534</td>\n",
              "      <td>27.066582</td>\n",
              "    </tr>\n",
              "    <tr>\n",
              "      <th>1</th>\n",
              "      <td>19-11-1999</td>\n",
              "      <td>28.478184</td>\n",
              "      <td>30.713518</td>\n",
              "      <td>15234146</td>\n",
              "      <td>30.758226</td>\n",
              "      <td>28.880545</td>\n",
              "      <td>24.836662</td>\n",
              "    </tr>\n",
              "    <tr>\n",
              "      <th>2</th>\n",
              "      <td>22-11-1999</td>\n",
              "      <td>28.657009</td>\n",
              "      <td>29.551144</td>\n",
              "      <td>6577870</td>\n",
              "      <td>31.473534</td>\n",
              "      <td>31.473534</td>\n",
              "      <td>27.066582</td>\n",
              "    </tr>\n",
              "    <tr>\n",
              "      <th>3</th>\n",
              "      <td>23-11-1999</td>\n",
              "      <td>28.612303</td>\n",
              "      <td>30.400572</td>\n",
              "      <td>5975611</td>\n",
              "      <td>31.205294</td>\n",
              "      <td>28.612303</td>\n",
              "      <td>24.605980</td>\n",
              "    </tr>\n",
              "    <tr>\n",
              "      <th>4</th>\n",
              "      <td>24-11-1999</td>\n",
              "      <td>28.612303</td>\n",
              "      <td>28.701717</td>\n",
              "      <td>4843231</td>\n",
              "      <td>29.998213</td>\n",
              "      <td>29.372318</td>\n",
              "      <td>25.259573</td>\n",
              "    </tr>\n",
              "  </tbody>\n",
              "</table>\n",
              "</div>\n",
              "    <div class=\"colab-df-buttons\">\n",
              "\n",
              "  <div class=\"colab-df-container\">\n",
              "    <button class=\"colab-df-convert\" onclick=\"convertToInteractive('df-8b0ed69b-d178-4b0a-844a-b92158deea31')\"\n",
              "            title=\"Convert this dataframe to an interactive table.\"\n",
              "            style=\"display:none;\">\n",
              "\n",
              "  <svg xmlns=\"http://www.w3.org/2000/svg\" height=\"24px\" viewBox=\"0 -960 960 960\">\n",
              "    <path d=\"M120-120v-720h720v720H120Zm60-500h600v-160H180v160Zm220 220h160v-160H400v160Zm0 220h160v-160H400v160ZM180-400h160v-160H180v160Zm440 0h160v-160H620v160ZM180-180h160v-160H180v160Zm440 0h160v-160H620v160Z\"/>\n",
              "  </svg>\n",
              "    </button>\n",
              "\n",
              "  <style>\n",
              "    .colab-df-container {\n",
              "      display:flex;\n",
              "      gap: 12px;\n",
              "    }\n",
              "\n",
              "    .colab-df-convert {\n",
              "      background-color: #E8F0FE;\n",
              "      border: none;\n",
              "      border-radius: 50%;\n",
              "      cursor: pointer;\n",
              "      display: none;\n",
              "      fill: #1967D2;\n",
              "      height: 32px;\n",
              "      padding: 0 0 0 0;\n",
              "      width: 32px;\n",
              "    }\n",
              "\n",
              "    .colab-df-convert:hover {\n",
              "      background-color: #E2EBFA;\n",
              "      box-shadow: 0px 1px 2px rgba(60, 64, 67, 0.3), 0px 1px 3px 1px rgba(60, 64, 67, 0.15);\n",
              "      fill: #174EA6;\n",
              "    }\n",
              "\n",
              "    .colab-df-buttons div {\n",
              "      margin-bottom: 4px;\n",
              "    }\n",
              "\n",
              "    [theme=dark] .colab-df-convert {\n",
              "      background-color: #3B4455;\n",
              "      fill: #D2E3FC;\n",
              "    }\n",
              "\n",
              "    [theme=dark] .colab-df-convert:hover {\n",
              "      background-color: #434B5C;\n",
              "      box-shadow: 0px 1px 3px 1px rgba(0, 0, 0, 0.15);\n",
              "      filter: drop-shadow(0px 1px 2px rgba(0, 0, 0, 0.3));\n",
              "      fill: #FFFFFF;\n",
              "    }\n",
              "  </style>\n",
              "\n",
              "    <script>\n",
              "      const buttonEl =\n",
              "        document.querySelector('#df-8b0ed69b-d178-4b0a-844a-b92158deea31 button.colab-df-convert');\n",
              "      buttonEl.style.display =\n",
              "        google.colab.kernel.accessAllowed ? 'block' : 'none';\n",
              "\n",
              "      async function convertToInteractive(key) {\n",
              "        const element = document.querySelector('#df-8b0ed69b-d178-4b0a-844a-b92158deea31');\n",
              "        const dataTable =\n",
              "          await google.colab.kernel.invokeFunction('convertToInteractive',\n",
              "                                                    [key], {});\n",
              "        if (!dataTable) return;\n",
              "\n",
              "        const docLinkHtml = 'Like what you see? Visit the ' +\n",
              "          '<a target=\"_blank\" href=https://colab.research.google.com/notebooks/data_table.ipynb>data table notebook</a>'\n",
              "          + ' to learn more about interactive tables.';\n",
              "        element.innerHTML = '';\n",
              "        dataTable['output_type'] = 'display_data';\n",
              "        await google.colab.output.renderOutput(dataTable, element);\n",
              "        const docLink = document.createElement('div');\n",
              "        docLink.innerHTML = docLinkHtml;\n",
              "        element.appendChild(docLink);\n",
              "      }\n",
              "    </script>\n",
              "  </div>\n",
              "\n",
              "\n",
              "<div id=\"df-589fca59-33e3-40fd-b1dd-4a7c141e353b\">\n",
              "  <button class=\"colab-df-quickchart\" onclick=\"quickchart('df-589fca59-33e3-40fd-b1dd-4a7c141e353b')\"\n",
              "            title=\"Suggest charts\"\n",
              "            style=\"display:none;\">\n",
              "\n",
              "<svg xmlns=\"http://www.w3.org/2000/svg\" height=\"24px\"viewBox=\"0 0 24 24\"\n",
              "     width=\"24px\">\n",
              "    <g>\n",
              "        <path d=\"M19 3H5c-1.1 0-2 .9-2 2v14c0 1.1.9 2 2 2h14c1.1 0 2-.9 2-2V5c0-1.1-.9-2-2-2zM9 17H7v-7h2v7zm4 0h-2V7h2v10zm4 0h-2v-4h2v4z\"/>\n",
              "    </g>\n",
              "</svg>\n",
              "  </button>\n",
              "\n",
              "<style>\n",
              "  .colab-df-quickchart {\n",
              "      --bg-color: #E8F0FE;\n",
              "      --fill-color: #1967D2;\n",
              "      --hover-bg-color: #E2EBFA;\n",
              "      --hover-fill-color: #174EA6;\n",
              "      --disabled-fill-color: #AAA;\n",
              "      --disabled-bg-color: #DDD;\n",
              "  }\n",
              "\n",
              "  [theme=dark] .colab-df-quickchart {\n",
              "      --bg-color: #3B4455;\n",
              "      --fill-color: #D2E3FC;\n",
              "      --hover-bg-color: #434B5C;\n",
              "      --hover-fill-color: #FFFFFF;\n",
              "      --disabled-bg-color: #3B4455;\n",
              "      --disabled-fill-color: #666;\n",
              "  }\n",
              "\n",
              "  .colab-df-quickchart {\n",
              "    background-color: var(--bg-color);\n",
              "    border: none;\n",
              "    border-radius: 50%;\n",
              "    cursor: pointer;\n",
              "    display: none;\n",
              "    fill: var(--fill-color);\n",
              "    height: 32px;\n",
              "    padding: 0;\n",
              "    width: 32px;\n",
              "  }\n",
              "\n",
              "  .colab-df-quickchart:hover {\n",
              "    background-color: var(--hover-bg-color);\n",
              "    box-shadow: 0 1px 2px rgba(60, 64, 67, 0.3), 0 1px 3px 1px rgba(60, 64, 67, 0.15);\n",
              "    fill: var(--button-hover-fill-color);\n",
              "  }\n",
              "\n",
              "  .colab-df-quickchart-complete:disabled,\n",
              "  .colab-df-quickchart-complete:disabled:hover {\n",
              "    background-color: var(--disabled-bg-color);\n",
              "    fill: var(--disabled-fill-color);\n",
              "    box-shadow: none;\n",
              "  }\n",
              "\n",
              "  .colab-df-spinner {\n",
              "    border: 2px solid var(--fill-color);\n",
              "    border-color: transparent;\n",
              "    border-bottom-color: var(--fill-color);\n",
              "    animation:\n",
              "      spin 1s steps(1) infinite;\n",
              "  }\n",
              "\n",
              "  @keyframes spin {\n",
              "    0% {\n",
              "      border-color: transparent;\n",
              "      border-bottom-color: var(--fill-color);\n",
              "      border-left-color: var(--fill-color);\n",
              "    }\n",
              "    20% {\n",
              "      border-color: transparent;\n",
              "      border-left-color: var(--fill-color);\n",
              "      border-top-color: var(--fill-color);\n",
              "    }\n",
              "    30% {\n",
              "      border-color: transparent;\n",
              "      border-left-color: var(--fill-color);\n",
              "      border-top-color: var(--fill-color);\n",
              "      border-right-color: var(--fill-color);\n",
              "    }\n",
              "    40% {\n",
              "      border-color: transparent;\n",
              "      border-right-color: var(--fill-color);\n",
              "      border-top-color: var(--fill-color);\n",
              "    }\n",
              "    60% {\n",
              "      border-color: transparent;\n",
              "      border-right-color: var(--fill-color);\n",
              "    }\n",
              "    80% {\n",
              "      border-color: transparent;\n",
              "      border-right-color: var(--fill-color);\n",
              "      border-bottom-color: var(--fill-color);\n",
              "    }\n",
              "    90% {\n",
              "      border-color: transparent;\n",
              "      border-bottom-color: var(--fill-color);\n",
              "    }\n",
              "  }\n",
              "</style>\n",
              "\n",
              "  <script>\n",
              "    async function quickchart(key) {\n",
              "      const quickchartButtonEl =\n",
              "        document.querySelector('#' + key + ' button');\n",
              "      quickchartButtonEl.disabled = true;  // To prevent multiple clicks.\n",
              "      quickchartButtonEl.classList.add('colab-df-spinner');\n",
              "      try {\n",
              "        const charts = await google.colab.kernel.invokeFunction(\n",
              "            'suggestCharts', [key], {});\n",
              "      } catch (error) {\n",
              "        console.error('Error during call to suggestCharts:', error);\n",
              "      }\n",
              "      quickchartButtonEl.classList.remove('colab-df-spinner');\n",
              "      quickchartButtonEl.classList.add('colab-df-quickchart-complete');\n",
              "    }\n",
              "    (() => {\n",
              "      let quickchartButtonEl =\n",
              "        document.querySelector('#df-589fca59-33e3-40fd-b1dd-4a7c141e353b button');\n",
              "      quickchartButtonEl.style.display =\n",
              "        google.colab.kernel.accessAllowed ? 'block' : 'none';\n",
              "    })();\n",
              "  </script>\n",
              "</div>\n",
              "\n",
              "    </div>\n",
              "  </div>\n"
            ],
            "application/vnd.google.colaboratory.intrinsic+json": {
              "type": "dataframe",
              "variable_name": "df",
              "summary": "{\n  \"name\": \"df\",\n  \"rows\": 5804,\n  \"fields\": [\n    {\n      \"column\": \"Date\",\n      \"properties\": {\n        \"dtype\": \"object\",\n        \"num_unique_values\": 5804,\n        \"samples\": [\n          \"19-11-2001\",\n          \"14-06-2012\",\n          \"02-12-2014\"\n        ],\n        \"semantic_type\": \"\",\n        \"description\": \"\"\n      }\n    },\n    {\n      \"column\": \"Low\",\n      \"properties\": {\n        \"dtype\": \"number\",\n        \"std\": 35.131542627309024,\n        \"min\": 7.510729789733887,\n        \"max\": 177.1699981689453,\n        \"num_unique_values\": 4264,\n        \"samples\": [\n          138.75999450683594,\n          41.11587905883789,\n          20.708154678344727\n        ],\n        \"semantic_type\": \"\",\n        \"description\": \"\"\n      }\n    },\n    {\n      \"column\": \"Open\",\n      \"properties\": {\n        \"dtype\": \"number\",\n        \"std\": 35.525085396170645,\n        \"min\": 7.653790950775146,\n        \"max\": 179.27999877929688,\n        \"num_unique_values\": 4084,\n        \"samples\": [\n          13.054363250732422,\n          17.024320602416992,\n          29.06294631958008\n        ],\n        \"semantic_type\": \"\",\n        \"description\": \"\"\n      }\n    },\n    {\n      \"column\": \"Volume\",\n      \"properties\": {\n        \"dtype\": \"number\",\n        \"std\": 2433839,\n        \"min\": 194590,\n        \"max\": 62546380,\n        \"num_unique_values\": 5561,\n        \"samples\": [\n          3144382,\n          4737403,\n          1053800\n        ],\n        \"semantic_type\": \"\",\n        \"description\": \"\"\n      }\n    },\n    {\n      \"column\": \"High\",\n      \"properties\": {\n        \"dtype\": \"number\",\n        \"std\": 35.88695740230761,\n        \"min\": 7.961372852325439,\n        \"max\": 179.57000732421875,\n        \"num_unique_values\": 4151,\n        \"samples\": [\n          25.765378952026367,\n          131.82000732421875,\n          59.5\n        ],\n        \"semantic_type\": \"\",\n        \"description\": \"\"\n      }\n    },\n    {\n      \"column\": \"Close\",\n      \"properties\": {\n        \"dtype\": \"number\",\n        \"std\": 35.509572192672415,\n        \"min\": 7.761086940765381,\n        \"max\": 179.27999877929688,\n        \"num_unique_values\": 4229,\n        \"samples\": [\n          25.15021514892578,\n          134.57000732421875,\n          41.130184173583984\n        ],\n        \"semantic_type\": \"\",\n        \"description\": \"\"\n      }\n    },\n    {\n      \"column\": \"Adjusted Close\",\n      \"properties\": {\n        \"dtype\": \"number\",\n        \"std\": 36.03786514131337,\n        \"min\": 6.67437219619751,\n        \"max\": 178.82151794433594,\n        \"num_unique_values\": 4933,\n        \"samples\": [\n          100.32968139648438,\n          23.32647132873535,\n          122.51728057861328\n        ],\n        \"semantic_type\": \"\",\n        \"description\": \"\"\n      }\n    }\n  ]\n}"
            }
          },
          "metadata": {},
          "execution_count": 108
        }
      ],
      "source": [
        "#importing the dataset\n",
        "df=pd.read_csv('A.csv')\n",
        "df.head()"
      ]
    },
    {
      "cell_type": "code",
      "source": [
        "df.shape"
      ],
      "metadata": {
        "colab": {
          "base_uri": "https://localhost:8080/"
        },
        "id": "dQyD7Fbk10an",
        "outputId": "cb97109c-9009-431e-d3d3-efc6b7350597"
      },
      "execution_count": 109,
      "outputs": [
        {
          "output_type": "execute_result",
          "data": {
            "text/plain": [
              "(5804, 7)"
            ]
          },
          "metadata": {},
          "execution_count": 109
        }
      ]
    },
    {
      "cell_type": "code",
      "execution_count": 110,
      "metadata": {
        "colab": {
          "base_uri": "https://localhost:8080/"
        },
        "id": "xmH7m2uMABut",
        "outputId": "3d215565-f5f5-4a63-93f5-cf9aecdea1f1"
      },
      "outputs": [
        {
          "output_type": "stream",
          "name": "stdout",
          "text": [
            "<class 'pandas.core.frame.DataFrame'>\n",
            "RangeIndex: 5804 entries, 0 to 5803\n",
            "Data columns (total 7 columns):\n",
            " #   Column          Non-Null Count  Dtype  \n",
            "---  ------          --------------  -----  \n",
            " 0   Date            5804 non-null   object \n",
            " 1   Low             5804 non-null   float64\n",
            " 2   Open            5804 non-null   float64\n",
            " 3   Volume          5804 non-null   int64  \n",
            " 4   High            5804 non-null   float64\n",
            " 5   Close           5804 non-null   float64\n",
            " 6   Adjusted Close  5804 non-null   float64\n",
            "dtypes: float64(5), int64(1), object(1)\n",
            "memory usage: 317.5+ KB\n"
          ]
        }
      ],
      "source": [
        "df.info()"
      ]
    },
    {
      "cell_type": "markdown",
      "source": [
        "# **Data Preprocessing:**"
      ],
      "metadata": {
        "id": "D2MfkTtU67Go"
      }
    },
    {
      "cell_type": "code",
      "execution_count": 111,
      "metadata": {
        "id": "F6XwkChsBq8c"
      },
      "outputs": [],
      "source": [
        "df['Date']=pd.to_datetime(df['Date'],dayfirst=True)"
      ]
    },
    {
      "cell_type": "code",
      "execution_count": 112,
      "metadata": {
        "id": "SWHbmWQoB5U9"
      },
      "outputs": [],
      "source": [
        "from sklearn.model_selection import train_test_split\n",
        "from sklearn.preprocessing import MinMaxScaler\n",
        "\n",
        "X=df.drop(['Adjusted Close'],axis=1)\n",
        "y=df['Adjusted Close']\n",
        "\n",
        "X['Day']=X['Date'].dt.day\n",
        "X['Month']=X['Date'].dt.month\n",
        "X['Year']=X['Date'].dt.year\n",
        "X=X.drop(['Date'],axis=1)\n",
        "\n",
        "x_train,x_temp,y_train,y_temp=train_test_split(X,y,test_size=0.3,random_state=42)\n",
        "x_val,x_test,y_val,y_test=train_test_split(x_temp,y_temp,test_size=0.33,random_state=42)\n",
        "\n",
        "scaler=MinMaxScaler()\n",
        "x_train=scaler.fit_transform(x_train)\n",
        "x_val=scaler.transform(x_val)\n",
        "x_test=scaler.transform(x_test)"
      ]
    },
    {
      "cell_type": "code",
      "execution_count": 113,
      "metadata": {
        "id": "ORTBXgMFPf5H"
      },
      "outputs": [],
      "source": [
        "x_train=torch.tensor(x_train,dtype=torch.float32)\n",
        "x_val=torch.tensor(x_val,dtype=torch.float32)\n",
        "x_test=torch.tensor(x_test,dtype=torch.float32)\n",
        "y_train=torch.tensor(y_train.values,dtype=torch.float32).unsqueeze(1)\n",
        "y_val=torch.tensor(y_val.values,dtype=torch.float32).unsqueeze(1)\n",
        "y_test=torch.tensor(y_test.values,dtype=torch.float32).unsqueeze(1)\n",
        "\n",
        "\n",
        "training_data=TensorDataset(x_train,y_train)\n",
        "val_data=TensorDataset(x_val,y_val)\n",
        "test_data=TensorDataset(x_test,y_test)"
      ]
    },
    {
      "cell_type": "markdown",
      "source": [
        "## Model:"
      ],
      "metadata": {
        "id": "H84-7SVr7HbS"
      }
    },
    {
      "cell_type": "code",
      "source": [
        "class Linear_layer(nn.Module):\n",
        "  def __init__(self,input_size,output_size):\n",
        "    super(Linear_layer,self).__init__()\n",
        "    self.weights=nn.Parameter(torch.randn(input_size,output_size))\n",
        "    self.bias=nn.Parameter(torch.randn(output_size))\n",
        "\n",
        "  def forward(self,x):\n",
        "    return torch.matmul(x,self.weights)+self.bias\n",
        "\n",
        "\n",
        "class Relu(nn.Module):\n",
        "  def __init(self):\n",
        "    super(Relu,self).__init__()\n",
        "\n",
        "  def forward(self,x):\n",
        "    return torch.max(x,torch.tensor(0.0))"
      ],
      "metadata": {
        "id": "dSDczKyQbM2N"
      },
      "execution_count": 114,
      "outputs": []
    },
    {
      "cell_type": "code",
      "execution_count": 115,
      "metadata": {
        "id": "a7IljxItmKDS"
      },
      "outputs": [],
      "source": [
        "class NeuralNetwork(nn.Module):\n",
        "  def __init__(self,input_size,hidden_layers,output_size):\n",
        "    super(NeuralNetwork,self).__init__()\n",
        "    layers=[]\n",
        "    previous_size=input_size\n",
        "    for layer_units in hidden_layers:\n",
        "      layers.append(Linear_layer(previous_size,layer_units))\n",
        "      layers.append(Relu())\n",
        "      previous_size=layer_units\n",
        "\n",
        "    layers.append(Linear_layer(previous_size,output_size))\n",
        "    self.model=nn.Sequential(*layers)\n",
        "\n",
        "  def forward(self,x):\n",
        "    return self.model(x)\n"
      ]
    },
    {
      "cell_type": "markdown",
      "source": [
        "# Model Training:"
      ],
      "metadata": {
        "id": "0fI0EJJ07VU1"
      }
    },
    {
      "cell_type": "code",
      "execution_count": 116,
      "metadata": {
        "id": "wXKSbPkauoOT"
      },
      "outputs": [],
      "source": [
        "def train_model(model,train_data,batch_size,n_epochs,loss_fn,optimizer):\n",
        "  data_loader=DataLoader(train_data,batch_size=batch_size,shuffle=True)\n",
        "\n",
        "  losses=[]\n",
        "  for epoch in range(n_epochs):\n",
        "    for x_batch,y_batch in data_loader:\n",
        "      y_pred=model(x_batch)\n",
        "      loss=loss_fn(y_pred,y_batch)\n",
        "      optimizer.zero_grad()\n",
        "      loss.backward()\n",
        "      optimizer.step()\n",
        "    losses.append(loss.item())\n",
        "\n",
        "    print(f'Epoch {epoch+1}, Loss: {loss.item():.4f}')\n",
        "\n",
        "  return model,losses"
      ]
    },
    {
      "cell_type": "code",
      "execution_count": 120,
      "metadata": {
        "colab": {
          "base_uri": "https://localhost:8080/"
        },
        "id": "qEGGD3H9vAZa",
        "outputId": "c70403c6-3c39-4689-e7bd-1ea1049c392c"
      },
      "outputs": [
        {
          "output_type": "stream",
          "name": "stdout",
          "text": [
            "Epoch 1, Loss: 1802.0392\n",
            "Epoch 2, Loss: 113.4740\n",
            "Epoch 3, Loss: 14.3368\n",
            "Epoch 4, Loss: 8.6294\n",
            "Epoch 5, Loss: 4.9288\n",
            "Epoch 6, Loss: 3.7876\n",
            "Epoch 7, Loss: 3.5010\n",
            "Epoch 8, Loss: 1.6171\n",
            "Epoch 9, Loss: 1.9997\n",
            "Epoch 10, Loss: 1.6606\n",
            "Epoch 11, Loss: 1.5108\n",
            "Epoch 12, Loss: 1.2398\n",
            "Epoch 13, Loss: 1.4467\n",
            "Epoch 14, Loss: 1.0304\n",
            "Epoch 15, Loss: 0.8636\n",
            "Epoch 16, Loss: 1.0401\n",
            "Epoch 17, Loss: 0.8916\n",
            "Epoch 18, Loss: 0.9525\n",
            "Epoch 19, Loss: 0.8269\n",
            "Epoch 20, Loss: 0.8001\n",
            "Epoch 21, Loss: 1.6728\n",
            "Epoch 22, Loss: 0.4874\n",
            "Epoch 23, Loss: 0.5626\n",
            "Epoch 24, Loss: 0.6344\n",
            "Epoch 25, Loss: 0.5007\n",
            "Epoch 26, Loss: 0.6789\n",
            "Epoch 27, Loss: 0.6296\n",
            "Epoch 28, Loss: 0.6572\n",
            "Epoch 29, Loss: 0.4091\n",
            "Epoch 30, Loss: 0.5459\n",
            "Epoch 31, Loss: 0.5534\n",
            "Epoch 32, Loss: 0.6278\n",
            "Epoch 33, Loss: 0.4696\n",
            "Epoch 34, Loss: 0.7399\n",
            "Epoch 35, Loss: 0.6474\n",
            "Epoch 36, Loss: 0.4651\n",
            "Epoch 37, Loss: 0.4500\n",
            "Epoch 38, Loss: 0.5717\n",
            "Epoch 39, Loss: 0.4338\n",
            "Epoch 40, Loss: 0.4648\n",
            "Epoch 41, Loss: 0.3914\n",
            "Epoch 42, Loss: 0.4718\n",
            "Epoch 43, Loss: 0.6102\n",
            "Epoch 44, Loss: 0.6397\n",
            "Epoch 45, Loss: 0.3824\n",
            "Epoch 46, Loss: 0.4673\n",
            "Epoch 47, Loss: 0.4473\n",
            "Epoch 48, Loss: 0.4884\n",
            "Epoch 49, Loss: 0.4132\n",
            "Epoch 50, Loss: 0.3679\n",
            "Epoch 51, Loss: 0.3367\n",
            "Epoch 52, Loss: 0.3921\n",
            "Epoch 53, Loss: 0.3649\n",
            "Epoch 54, Loss: 0.2756\n",
            "Epoch 55, Loss: 0.4562\n",
            "Epoch 56, Loss: 0.2984\n",
            "Epoch 57, Loss: 0.3317\n",
            "Epoch 58, Loss: 0.3363\n",
            "Epoch 59, Loss: 0.2570\n",
            "Epoch 60, Loss: 0.5000\n",
            "Epoch 61, Loss: 0.2784\n",
            "Epoch 62, Loss: 0.4982\n",
            "Epoch 63, Loss: 0.2788\n",
            "Epoch 64, Loss: 0.2508\n",
            "Epoch 65, Loss: 0.3108\n",
            "Epoch 66, Loss: 0.4506\n",
            "Epoch 67, Loss: 0.3043\n",
            "Epoch 68, Loss: 0.3296\n",
            "Epoch 69, Loss: 0.2376\n",
            "Epoch 70, Loss: 0.3152\n",
            "Epoch 71, Loss: 0.1721\n",
            "Epoch 72, Loss: 0.2788\n",
            "Epoch 73, Loss: 0.2954\n",
            "Epoch 74, Loss: 0.2930\n",
            "Epoch 75, Loss: 0.2465\n",
            "Epoch 76, Loss: 0.3597\n",
            "Epoch 77, Loss: 0.3305\n",
            "Epoch 78, Loss: 0.3025\n",
            "Epoch 79, Loss: 0.1987\n",
            "Epoch 80, Loss: 0.2486\n",
            "Epoch 81, Loss: 0.3067\n",
            "Epoch 82, Loss: 0.2166\n",
            "Epoch 83, Loss: 0.2112\n",
            "Epoch 84, Loss: 0.3994\n",
            "Epoch 85, Loss: 0.4245\n",
            "Epoch 86, Loss: 0.3355\n",
            "Epoch 87, Loss: 0.3292\n",
            "Epoch 88, Loss: 0.2575\n",
            "Epoch 89, Loss: 0.2610\n",
            "Epoch 90, Loss: 0.4515\n",
            "Epoch 91, Loss: 0.3434\n",
            "Epoch 92, Loss: 0.2219\n",
            "Epoch 93, Loss: 0.6386\n",
            "Epoch 94, Loss: 0.3603\n",
            "Epoch 95, Loss: 0.1685\n",
            "Epoch 96, Loss: 0.2161\n",
            "Epoch 97, Loss: 0.2304\n",
            "Epoch 98, Loss: 0.3030\n",
            "Epoch 99, Loss: 0.2791\n",
            "Epoch 100, Loss: 0.1696\n"
          ]
        }
      ],
      "source": [
        "hidden_layers=[256,128,64,32,16,8,4]\n",
        "model=NeuralNetwork(x_train.shape[1],hidden_layers,1)\n",
        "batch_size=128\n",
        "n_epochs=100\n",
        "loss_fn=nn.MSELoss(reduction='mean')\n",
        "optimizer= torch.optim.Adam(model.parameters(),lr=0.01)\n",
        "\n",
        "trained_model,losses_for_train=train_model(model,training_data,batch_size,n_epochs,loss_fn,optimizer)\n"
      ]
    },
    {
      "cell_type": "code",
      "execution_count": 121,
      "metadata": {
        "colab": {
          "base_uri": "https://localhost:8080/",
          "height": 430
        },
        "id": "3Do8SyurxFuO",
        "outputId": "6adf09ee-dd95-4dfc-c9f1-b103d137fb88"
      },
      "outputs": [
        {
          "output_type": "display_data",
          "data": {
            "text/plain": [
              "<Figure size 640x480 with 1 Axes>"
            ],
            "image/png": "[encoded data removed]"
          },
          "metadata": {}
        }
      ],
      "source": [
        "plt.plot(losses_for_train)\n",
        "plt.show()"
      ]
    },
    {
      "cell_type": "markdown",
      "source": [
        "# **Testing the Model:**"
      ],
      "metadata": {
        "id": "RQAkEud17t5w"
      }
    },
    {
      "cell_type": "code",
      "execution_count": 122,
      "metadata": {
        "id": "E8_9XL7Mxjbm"
      },
      "outputs": [],
      "source": [
        "def test_model(model, test_data):\n",
        "\n",
        "    model.eval()\n",
        "\n",
        "    test_loader = DataLoader(dataset=test_data, batch_size=32, shuffle=False)\n",
        "    predictions = []\n",
        "    actuals = []\n",
        "\n",
        "    with torch.no_grad():\n",
        "        for x_batch, y_batch in test_loader:\n",
        "            yhat = model(x_batch)\n",
        "            predictions.append(yhat.numpy())\n",
        "            actuals.append(y_batch.numpy())\n",
        "\n",
        "    # Concatenate results\n",
        "    predictions = np.concatenate(predictions)\n",
        "    actuals = np.concatenate(actuals)\n",
        "\n",
        "    return predictions, actuals\n"
      ]
    },
    {
      "cell_type": "code",
      "execution_count": 123,
      "metadata": {
        "colab": {
          "base_uri": "https://localhost:8080/",
          "height": 472
        },
        "id": "cWDyRniKVfL1",
        "outputId": "e0f599cd-a21a-4080-909a-716f65e5c977"
      },
      "outputs": [
        {
          "output_type": "display_data",
          "data": {
            "text/plain": [
              "<Figure size 640x480 with 1 Axes>"
            ],
            "image/png": "[encoded data removed]"
          },
          "metadata": {}
        }
      ],
      "source": [
        "# Scatter plot with line of equality\n",
        "predictions, actuals = test_model(model, test_data)\n",
        "plt.scatter(actuals, predictions, color='green', alpha=0.6, label='Predicted vs Actual')\n",
        "plt.plot([min(actuals), max(actuals)], [min(actuals), max(actuals)], color='blue', linestyle='--', label='Line of Equality (y=x)')\n",
        "plt.xlabel(\"Actual Values\")\n",
        "plt.ylabel(\"Predicted Values\")\n",
        "plt.title(\"Actual vs Predicted\")\n",
        "plt.legend()\n",
        "plt.show()\n"
      ]
    },
    {
      "cell_type": "code",
      "execution_count": 124,
      "metadata": {
        "colab": {
          "base_uri": "https://localhost:8080/"
        },
        "id": "9jY9W4FdVkAa",
        "outputId": "a48ba606-5f50-4732-833c-831bf6e27c5d"
      },
      "outputs": [
        {
          "output_type": "stream",
          "name": "stdout",
          "text": [
            "MSE:  0.4569740295410156\n",
            "MAE:  0.4856134355068207\n"
          ]
        }
      ],
      "source": [
        "predictions = torch.tensor(predictions, dtype=torch.float32)\n",
        "actuals = torch.tensor(actuals, dtype=torch.float32)\n",
        "\n",
        "loss = loss_fn(predictions, actuals)\n",
        "print('MSE: ',loss.item())\n",
        "mae_loss=nn.L1Loss(reduction='mean')\n",
        "mae=mae_loss(predictions,actuals)\n",
        "print('MAE: ',mae.item())\n"
      ]
    },
    {
      "cell_type": "code",
      "execution_count": null,
      "metadata": {
        "id": "JttA3ZBOVoqY"
      },
      "outputs": [],
      "source": []
    }
  ],
  "metadata": {
    "colab": {
      "provenance": []
    },
    "kernelspec": {
      "display_name": "Python 3",
      "name": "python3"
    },
    "language_info": {
      "name": "python"
    }
  },
  "nbformat": 4,
  "nbformat_minor": 0
}